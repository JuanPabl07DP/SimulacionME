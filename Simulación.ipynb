{
  "nbformat": 4,
  "nbformat_minor": 0,
  "metadata": {
    "colab": {
      "provenance": [],
      "gpuType": "T4",
      "collapsed_sections": [
        "f3OmoDQoUt9j",
        "nmBAC7hdU0or"
      ],
      "authorship_tag": "ABX9TyNGpJNBNvCMk0/PUENQkskK",
      "include_colab_link": true
    },
    "kernelspec": {
      "name": "python3",
      "display_name": "Python 3"
    },
    "language_info": {
      "name": "python"
    }
  },
  "cells": [
    {
      "cell_type": "markdown",
      "metadata": {
        "id": "view-in-github",
        "colab_type": "text"
      },
      "source": [
        "<a href=\"https://colab.research.google.com/github/JuanPabl07DP/SimulacionME/blob/main/Simulaci%C3%B3n.ipynb\" target=\"_parent\"><img src=\"https://colab.research.google.com/assets/colab-badge.svg\" alt=\"Open In Colab\"/></a>"
      ]
    },
    {
      "cell_type": "markdown",
      "source": [
        "# Simulación de bot para el monitoreo de emociones (Prototipo)\n",
        "\n",
        "## Desarrollado por:\n",
        "- Juan Pablo Daza Pereira\n",
        "- Juan Sebastian Camargo Sanchez"
      ],
      "metadata": {
        "id": "9Nn8xGLgUMVz"
      }
    },
    {
      "cell_type": "markdown",
      "source": [
        "## Subir archivos"
      ],
      "metadata": {
        "id": "LMTtccyxUgiE"
      }
    },
    {
      "cell_type": "code",
      "source": [
        "from google.colab import files\n",
        "\n",
        "print(\"🔼 Sube una imagen (con rostro):\")\n",
        "uploaded_img = files.upload()\n",
        "\n",
        "# Obtener el nombre del archivo\n",
        "image_file = list(uploaded_img.keys())[0]\n",
        "\n",
        "# Leer imagen como bytes\n",
        "with open(image_file, 'rb') as image:\n",
        "    image_bytes = image.read()\n",
        "\n",
        "#print(\"🔼 Sube un audio (.wav o .mp3):\")\n",
        "#uploaded_audio = files.upload()"
      ],
      "metadata": {
        "colab": {
          "base_uri": "https://localhost:8080/",
          "height": 90
        },
        "id": "USr_9uq0Ui7Q",
        "outputId": "adac80bd-5769-4150-cfd8-edfccfe67578"
      },
      "execution_count": null,
      "outputs": [
        {
          "output_type": "stream",
          "name": "stdout",
          "text": [
            "🔼 Sube una imagen (con rostro):\n"
          ]
        },
        {
          "output_type": "display_data",
          "data": {
            "text/plain": [
              "<IPython.core.display.HTML object>"
            ],
            "text/html": [
              "\n",
              "     <input type=\"file\" id=\"files-cfb1592a-5ac8-4d01-b931-10604ceaa660\" name=\"files[]\" multiple disabled\n",
              "        style=\"border:none\" />\n",
              "     <output id=\"result-cfb1592a-5ac8-4d01-b931-10604ceaa660\">\n",
              "      Upload widget is only available when the cell has been executed in the\n",
              "      current browser session. Please rerun this cell to enable.\n",
              "      </output>\n",
              "      <script>// Copyright 2017 Google LLC\n",
              "//\n",
              "// Licensed under the Apache License, Version 2.0 (the \"License\");\n",
              "// you may not use this file except in compliance with the License.\n",
              "// You may obtain a copy of the License at\n",
              "//\n",
              "//      http://www.apache.org/licenses/LICENSE-2.0\n",
              "//\n",
              "// Unless required by applicable law or agreed to in writing, software\n",
              "// distributed under the License is distributed on an \"AS IS\" BASIS,\n",
              "// WITHOUT WARRANTIES OR CONDITIONS OF ANY KIND, either express or implied.\n",
              "// See the License for the specific language governing permissions and\n",
              "// limitations under the License.\n",
              "\n",
              "/**\n",
              " * @fileoverview Helpers for google.colab Python module.\n",
              " */\n",
              "(function(scope) {\n",
              "function span(text, styleAttributes = {}) {\n",
              "  const element = document.createElement('span');\n",
              "  element.textContent = text;\n",
              "  for (const key of Object.keys(styleAttributes)) {\n",
              "    element.style[key] = styleAttributes[key];\n",
              "  }\n",
              "  return element;\n",
              "}\n",
              "\n",
              "// Max number of bytes which will be uploaded at a time.\n",
              "const MAX_PAYLOAD_SIZE = 100 * 1024;\n",
              "\n",
              "function _uploadFiles(inputId, outputId) {\n",
              "  const steps = uploadFilesStep(inputId, outputId);\n",
              "  const outputElement = document.getElementById(outputId);\n",
              "  // Cache steps on the outputElement to make it available for the next call\n",
              "  // to uploadFilesContinue from Python.\n",
              "  outputElement.steps = steps;\n",
              "\n",
              "  return _uploadFilesContinue(outputId);\n",
              "}\n",
              "\n",
              "// This is roughly an async generator (not supported in the browser yet),\n",
              "// where there are multiple asynchronous steps and the Python side is going\n",
              "// to poll for completion of each step.\n",
              "// This uses a Promise to block the python side on completion of each step,\n",
              "// then passes the result of the previous step as the input to the next step.\n",
              "function _uploadFilesContinue(outputId) {\n",
              "  const outputElement = document.getElementById(outputId);\n",
              "  const steps = outputElement.steps;\n",
              "\n",
              "  const next = steps.next(outputElement.lastPromiseValue);\n",
              "  return Promise.resolve(next.value.promise).then((value) => {\n",
              "    // Cache the last promise value to make it available to the next\n",
              "    // step of the generator.\n",
              "    outputElement.lastPromiseValue = value;\n",
              "    return next.value.response;\n",
              "  });\n",
              "}\n",
              "\n",
              "/**\n",
              " * Generator function which is called between each async step of the upload\n",
              " * process.\n",
              " * @param {string} inputId Element ID of the input file picker element.\n",
              " * @param {string} outputId Element ID of the output display.\n",
              " * @return {!Iterable<!Object>} Iterable of next steps.\n",
              " */\n",
              "function* uploadFilesStep(inputId, outputId) {\n",
              "  const inputElement = document.getElementById(inputId);\n",
              "  inputElement.disabled = false;\n",
              "\n",
              "  const outputElement = document.getElementById(outputId);\n",
              "  outputElement.innerHTML = '';\n",
              "\n",
              "  const pickedPromise = new Promise((resolve) => {\n",
              "    inputElement.addEventListener('change', (e) => {\n",
              "      resolve(e.target.files);\n",
              "    });\n",
              "  });\n",
              "\n",
              "  const cancel = document.createElement('button');\n",
              "  inputElement.parentElement.appendChild(cancel);\n",
              "  cancel.textContent = 'Cancel upload';\n",
              "  const cancelPromise = new Promise((resolve) => {\n",
              "    cancel.onclick = () => {\n",
              "      resolve(null);\n",
              "    };\n",
              "  });\n",
              "\n",
              "  // Wait for the user to pick the files.\n",
              "  const files = yield {\n",
              "    promise: Promise.race([pickedPromise, cancelPromise]),\n",
              "    response: {\n",
              "      action: 'starting',\n",
              "    }\n",
              "  };\n",
              "\n",
              "  cancel.remove();\n",
              "\n",
              "  // Disable the input element since further picks are not allowed.\n",
              "  inputElement.disabled = true;\n",
              "\n",
              "  if (!files) {\n",
              "    return {\n",
              "      response: {\n",
              "        action: 'complete',\n",
              "      }\n",
              "    };\n",
              "  }\n",
              "\n",
              "  for (const file of files) {\n",
              "    const li = document.createElement('li');\n",
              "    li.append(span(file.name, {fontWeight: 'bold'}));\n",
              "    li.append(span(\n",
              "        `(${file.type || 'n/a'}) - ${file.size} bytes, ` +\n",
              "        `last modified: ${\n",
              "            file.lastModifiedDate ? file.lastModifiedDate.toLocaleDateString() :\n",
              "                                    'n/a'} - `));\n",
              "    const percent = span('0% done');\n",
              "    li.appendChild(percent);\n",
              "\n",
              "    outputElement.appendChild(li);\n",
              "\n",
              "    const fileDataPromise = new Promise((resolve) => {\n",
              "      const reader = new FileReader();\n",
              "      reader.onload = (e) => {\n",
              "        resolve(e.target.result);\n",
              "      };\n",
              "      reader.readAsArrayBuffer(file);\n",
              "    });\n",
              "    // Wait for the data to be ready.\n",
              "    let fileData = yield {\n",
              "      promise: fileDataPromise,\n",
              "      response: {\n",
              "        action: 'continue',\n",
              "      }\n",
              "    };\n",
              "\n",
              "    // Use a chunked sending to avoid message size limits. See b/62115660.\n",
              "    let position = 0;\n",
              "    do {\n",
              "      const length = Math.min(fileData.byteLength - position, MAX_PAYLOAD_SIZE);\n",
              "      const chunk = new Uint8Array(fileData, position, length);\n",
              "      position += length;\n",
              "\n",
              "      const base64 = btoa(String.fromCharCode.apply(null, chunk));\n",
              "      yield {\n",
              "        response: {\n",
              "          action: 'append',\n",
              "          file: file.name,\n",
              "          data: base64,\n",
              "        },\n",
              "      };\n",
              "\n",
              "      let percentDone = fileData.byteLength === 0 ?\n",
              "          100 :\n",
              "          Math.round((position / fileData.byteLength) * 100);\n",
              "      percent.textContent = `${percentDone}% done`;\n",
              "\n",
              "    } while (position < fileData.byteLength);\n",
              "  }\n",
              "\n",
              "  // All done.\n",
              "  yield {\n",
              "    response: {\n",
              "      action: 'complete',\n",
              "    }\n",
              "  };\n",
              "}\n",
              "\n",
              "scope.google = scope.google || {};\n",
              "scope.google.colab = scope.google.colab || {};\n",
              "scope.google.colab._files = {\n",
              "  _uploadFiles,\n",
              "  _uploadFilesContinue,\n",
              "};\n",
              "})(self);\n",
              "</script> "
            ]
          },
          "metadata": {}
        },
        {
          "output_type": "stream",
          "name": "stdout",
          "text": [
            "Saving Prueba2.jpg to Prueba2.jpg\n"
          ]
        }
      ]
    },
    {
      "cell_type": "markdown",
      "source": [
        "## API Keys"
      ],
      "metadata": {
        "id": "RU0KGmaRUmR1"
      }
    },
    {
      "cell_type": "code",
      "source": [
        "GOOGLE_VISION_API_KEY = \"\"\n",
        "ASSEMBLYAI_API_KEY = \"\"\n",
        "AZURE_FACE_API_KEY = \"\"\n",
        "AZURE_FACE_API_ENDPOINT = \"\"\n",
        "AWS_ACCESS_KEY_ID = \"\"\n",
        "AWS_SECRET_ACCESS_KEY = \"\"\n",
        "AWS_REGION = \"\""
      ],
      "metadata": {
        "id": "MUET4-qtUonL"
      },
      "execution_count": null,
      "outputs": []
    },
    {
      "cell_type": "markdown",
      "source": [
        "\n",
        "## Envío de imagenes a Google Cloud Vision API"
      ],
      "metadata": {
        "id": "f3OmoDQoUt9j"
      }
    },
    {
      "cell_type": "code",
      "source": [
        "import requests\n",
        "import base64\n",
        "import json\n",
        "\n",
        "# Obtener nombre del archivo\n",
        "image_file = list(uploaded_img.keys())[0]\n",
        "\n",
        "# Codificar imagen a base64\n",
        "with open(image_file, \"rb\") as image:\n",
        "    img_base64 = base64.b64encode(image.read()).decode()\n",
        "\n",
        "# Preparar solicitud\n",
        "vision_url = f\"https://vision.googleapis.com/v1/images:annotate?key={GOOGLE_VISION_API_KEY}\"\n",
        "\n",
        "payload = {\n",
        "    \"requests\": [{\n",
        "        \"image\": {\n",
        "            \"content\": img_base64\n",
        "        },\n",
        "        \"features\": [{\n",
        "            \"type\": \"FACE_DETECTION\",\n",
        "            \"maxResults\": 1\n",
        "        }]\n",
        "    }]\n",
        "}\n",
        "\n",
        "response = requests.post(vision_url, json=payload)\n",
        "face_data = response.json()\n",
        "\n",
        "# Verifica si la respuesta contiene 'responses'\n",
        "if \"responses\" in face_data:\n",
        "    response_data = face_data[\"responses\"][0]\n",
        "\n",
        "    if \"faceAnnotations\" in response_data:\n",
        "        emotions = response_data[\"faceAnnotations\"][0]\n",
        "        print(\"Emociones detectadas en la imagen:\")\n",
        "        for emotion in ['joyLikelihood', 'sorrowLikelihood', 'angerLikelihood', 'surpriseLikelihood']:\n",
        "            print(f\"{emotion}: {emotions[emotion]}\")\n",
        "    else:\n",
        "        print(\"No se detectó ningún rostro en la imagen.\")\n",
        "else:\n",
        "    print(\"Error en la respuesta de la API:\")\n",
        "    print(json.dumps(face_data, indent=2))\n"
      ],
      "metadata": {
        "colab": {
          "base_uri": "https://localhost:8080/"
        },
        "id": "254GtZdbUyCF",
        "outputId": "f238f477-6166-459c-f7cc-9e743796cdff"
      },
      "execution_count": null,
      "outputs": [
        {
          "output_type": "stream",
          "name": "stdout",
          "text": [
            "Emociones detectadas en la imagen:\n",
            "joyLikelihood: VERY_LIKELY\n",
            "sorrowLikelihood: VERY_UNLIKELY\n",
            "angerLikelihood: VERY_UNLIKELY\n",
            "surpriseLikelihood: VERY_UNLIKELY\n"
          ]
        }
      ]
    },
    {
      "cell_type": "markdown",
      "source": [
        "## Envío de imagenes a Face API"
      ],
      "metadata": {
        "id": "Jlj-3fbUpRsQ"
      }
    },
    {
      "cell_type": "code",
      "source": [
        "import requests\n",
        "import json\n",
        "# Ruta de la imagen subida en Colab\n",
        "image_path = list(uploaded_img.keys())[0]\n",
        "\n",
        "# Leer imagen en binario\n",
        "with open(image_path, \"rb\") as image_file:\n",
        "    image_data = image_file.read()\n",
        "\n",
        "# Configurar headers y parámetros de Face API\n",
        "headers = {\n",
        "    \"Ocp-Apim-Subscription-Key\": AZURE_FACE_API_KEY,\n",
        "    \"Content-Type\": \"application/octet-stream\"\n",
        "}\n",
        "params = {\n",
        "    \"returnFaceAttributes\": \"emotion\"\n",
        "}\n",
        "\n",
        "# Hacer solicitud POST\n",
        "face_api_url = f\"{AZURE_FACE_API_ENDPOINT}/face/v1.0/detect\"\n",
        "response = requests.post(face_api_url, params=params, headers=headers, data=image_data)\n",
        "\n",
        "# Procesar respuesta\n",
        "if response.status_code == 200:\n",
        "    results = response.json()\n",
        "    if results:\n",
        "        print(\"Emociones detectadas con Azure Face API:\")\n",
        "        emotions = results[0][\"faceAttributes\"][\"emotion\"]\n",
        "        for emotion, value in emotions.items():\n",
        "            print(f\"{emotion.capitalize()}: {value:.3f}\")\n",
        "    else:\n",
        "        print(\"No se detectaron rostros en la imagen.\")\n",
        "else:\n",
        "    print(\"Error al consultar Azure Face API:\")\n",
        "    print(response.text)"
      ],
      "metadata": {
        "colab": {
          "base_uri": "https://localhost:8080/"
        },
        "id": "H2p16ZkdpSbp",
        "outputId": "7a8852ed-3753-4b05-b3eb-cf99bd5164f4"
      },
      "execution_count": null,
      "outputs": [
        {
          "output_type": "stream",
          "name": "stdout",
          "text": [
            "Error al consultar Azure Face API:\n",
            "{\r\n",
            "  \"error\": {\r\n",
            "    \"code\": \"InvalidRequest\",\r\n",
            "    \"message\": \"Invalid request has been sent.\",\r\n",
            "    \"innererror\": {\r\n",
            "      \"code\": \"UnsupportedFeature\",\r\n",
            "      \"message\": \"Return Attributes (emotion, gender, age, smile, facial hair, hair and makeup) have been deprecated and are no longer supported. For more information, please see https://aka.ms/facerecognition.\"\r\n",
            "    }\r\n",
            "  }\r\n",
            "}\n"
          ]
        }
      ]
    },
    {
      "cell_type": "markdown",
      "source": [
        "## Envío de imagenes a Amazon Rekognition"
      ],
      "metadata": {
        "id": "bMFnMm75JiwL"
      }
    },
    {
      "cell_type": "code",
      "source": [
        "!pip install boto3"
      ],
      "metadata": {
        "colab": {
          "base_uri": "https://localhost:8080/"
        },
        "id": "YpleMQnWL1wn",
        "outputId": "38f565c7-04de-4da5-c448-3c39d866b208"
      },
      "execution_count": null,
      "outputs": [
        {
          "output_type": "stream",
          "name": "stdout",
          "text": [
            "Requirement already satisfied: boto3 in /usr/local/lib/python3.11/dist-packages (1.38.0)\n",
            "Requirement already satisfied: botocore<1.39.0,>=1.38.0 in /usr/local/lib/python3.11/dist-packages (from boto3) (1.38.0)\n",
            "Requirement already satisfied: jmespath<2.0.0,>=0.7.1 in /usr/local/lib/python3.11/dist-packages (from boto3) (1.0.1)\n",
            "Requirement already satisfied: s3transfer<0.13.0,>=0.12.0 in /usr/local/lib/python3.11/dist-packages (from boto3) (0.12.0)\n",
            "Requirement already satisfied: python-dateutil<3.0.0,>=2.1 in /usr/local/lib/python3.11/dist-packages (from botocore<1.39.0,>=1.38.0->boto3) (2.8.2)\n",
            "Requirement already satisfied: urllib3!=2.2.0,<3,>=1.25.4 in /usr/local/lib/python3.11/dist-packages (from botocore<1.39.0,>=1.38.0->boto3) (2.3.0)\n",
            "Requirement already satisfied: six>=1.5 in /usr/local/lib/python3.11/dist-packages (from python-dateutil<3.0.0,>=2.1->botocore<1.39.0,>=1.38.0->boto3) (1.17.0)\n"
          ]
        }
      ]
    },
    {
      "cell_type": "code",
      "source": [
        "import boto3\n",
        "# Crear cliente de Rekognition\n",
        "rekognition = boto3.client(\n",
        "    'rekognition',\n",
        "    aws_access_key_id=AWS_ACCESS_KEY_ID,\n",
        "    aws_secret_access_key=AWS_SECRET_ACCESS_KEY,\n",
        "    region_name=AWS_REGION\n",
        ")\n",
        "\n",
        "# Enviar solicitud para detectar emociones\n",
        "response = rekognition.detect_faces(\n",
        "    Image={'Bytes': image_bytes},\n",
        "    Attributes=['ALL']\n",
        ")\n",
        "\n",
        "# Mostrar emociones\n",
        "if 'FaceDetails' in response and len(response['FaceDetails']) > 0:\n",
        "    print(\"Emociones detectadas con Amazon Rekognition:\")\n",
        "    emotions = response['FaceDetails'][0]['Emotions']\n",
        "    for emotion in sorted(emotions, key=lambda x: x['Confidence'], reverse=True):\n",
        "        print(f\"{emotion['Type']}: {emotion['Confidence']:.2f}%\")\n",
        "else:\n",
        "    print(\"⚠️ No se detectaron rostros en la imagen.\")"
      ],
      "metadata": {
        "colab": {
          "base_uri": "https://localhost:8080/"
        },
        "id": "FNZt87phJkeY",
        "outputId": "b5a09f5f-f1c0-41e5-96a9-ade204b4642f"
      },
      "execution_count": null,
      "outputs": [
        {
          "output_type": "stream",
          "name": "stdout",
          "text": [
            "Emociones detectadas con Amazon Rekognition:\n",
            "HAPPY: 96.42%\n",
            "CONFUSED: 0.44%\n",
            "CALM: 0.28%\n",
            "SURPRISED: 0.15%\n",
            "SAD: 0.12%\n",
            "DISGUSTED: 0.03%\n",
            "ANGRY: 0.00%\n",
            "FEAR: 0.00%\n"
          ]
        }
      ]
    },
    {
      "cell_type": "markdown",
      "source": [
        "## Envío de audio a AssemblyAI"
      ],
      "metadata": {
        "id": "nmBAC7hdU0or"
      }
    },
    {
      "cell_type": "code",
      "source": [
        "import time\n",
        "\n",
        "audio_file = list(uploaded_audio.keys())[0]\n",
        "\n",
        "# Subir archivo a AssemblyAI\n",
        "headers_auth = {'authorization': ASSEMBLYAI_API_KEY}\n",
        "upload_url = \"https://api.assemblyai.com/v2/upload\"\n",
        "\n",
        "with open(audio_file, 'rb') as f:\n",
        "    upload_response = requests.post(upload_url, headers=headers_auth, files={'file': f})\n",
        "\n",
        "audio_url = upload_response.json()['upload_url']\n",
        "\n",
        "# Solicitar transcripción con análisis de emociones\n",
        "transcribe_url = \"https://api.assemblyai.com/v2/transcript\"\n",
        "payload = {\n",
        "    \"audio_url\": audio_url,\n",
        "    \"speaker_labels\": False,\n",
        "    \"iab_categories\": True,\n",
        "    \"auto_highlights\": True,\n",
        "    \"sentiment_analysis\": True\n",
        "}\n",
        "\n",
        "transcribe_response = requests.post(transcribe_url, json=payload, headers=headers_auth)\n",
        "transcript_id = transcribe_response.json()['id']\n",
        "\n",
        "# Esperar a que termine\n",
        "print(\"Analizando audio...\")\n",
        "status = \"processing\"\n",
        "while status != \"completed\":\n",
        "    polling = requests.get(f\"https://api.assemblyai.com/v2/transcript/{transcript_id}\", headers=headers_auth)\n",
        "    result = polling.json()\n",
        "    status = result[\"status\"]\n",
        "    time.sleep(3)\n",
        "\n",
        "# Mostrar emociones\n",
        "print(\"Emociones detectadas en el audio:\")\n",
        "for sentiment in result.get(\"sentiment_analysis_results\", []):\n",
        "    print(f\"Texto: {sentiment['text']}\")\n",
        "    print(f\"Emoción: {sentiment['sentiment']} | Confianza: {sentiment['confidence']:.2f}\\n\")"
      ],
      "metadata": {
        "colab": {
          "base_uri": "https://localhost:8080/"
        },
        "id": "grOAW6QzU4VV",
        "outputId": "f754f75c-5462-43cd-daa9-ec7e299a5bff"
      },
      "execution_count": null,
      "outputs": [
        {
          "output_type": "stream",
          "name": "stdout",
          "text": [
            "Analizando audio...\n",
            "Emociones detectadas en el audio:\n",
            "Texto: Historic ansato de todo histo channel.\n",
            "Emoción: NEUTRAL | Confianza: 0.83\n",
            "\n"
          ]
        }
      ]
    }
  ]
}